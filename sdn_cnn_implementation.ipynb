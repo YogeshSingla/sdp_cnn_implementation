{
  "nbformat": 4,
  "nbformat_minor": 0,
  "metadata": {
    "colab": {
      "name": "sdn_cnn_implementation.ipynb",
      "version": "0.3.2",
      "provenance": [],
      "toc_visible": true,
      "include_colab_link": true
    },
    "kernelspec": {
      "name": "python3",
      "display_name": "Python 3"
    }
  },
  "cells": [
    {
      "cell_type": "markdown",
      "metadata": {
        "id": "view-in-github",
        "colab_type": "text"
      },
      "source": [
        "[View in Colaboratory](https://colab.research.google.com/github/YogeshSingla/sdp_cnn_implementation/blob/master/sdn_cnn_implementation.ipynb)"
      ]
    },
    {
      "metadata": {
        "id": "ekM4UKBbWsWC",
        "colab_type": "code",
        "colab": {
          "base_uri": "https://localhost:8080/",
          "height": 51
        },
        "outputId": "82313b93-05b4-4117-cb2a-fe980d2f2a1c"
      },
      "cell_type": "code",
      "source": [
        "import keras\n",
        "import javalang\n",
        "print(\"Cell run\")\n",
        "tree = javalang.parse.parse(\"package javalang.brewtab.com; class Test {}\")\n",
        "print(tree.package.name)"
      ],
      "execution_count": 9,
      "outputs": [
        {
          "output_type": "stream",
          "text": [
            "Cell run\n",
            "javalang.brewtab.com\n"
          ],
          "name": "stdout"
        }
      ]
    },
    {
      "metadata": {
        "id": "A4oI_-0v-fGa",
        "colab_type": "text"
      },
      "cell_type": "markdown",
      "source": [
        "## RNN implementation\n",
        "*Reference: Chapter 14: Recurrent Neural Networks, O'Reilly Hands on Machine Learning with Scikit-Learn and Tensorflow*"
      ]
    },
    {
      "metadata": {
        "id": "TbruSljg6SCm",
        "colab_type": "code",
        "colab": {}
      },
      "cell_type": "code",
      "source": [
        "# Simple RNN - Unrolled in time\n",
        "import numpy as np\n",
        "import tensorflow as tf\n",
        "\n",
        "n_inputs = 3\n",
        "n_neurons = 5\n",
        "\n",
        "X0 = tf.placeholder(tf.float32, [None, n_inputs]) \n",
        "\"\"\"\n",
        "note:\n",
        "none means dimension is not specified. So, it X0 takes any number of rows but\n",
        "n_inputs number of columns.\n",
        "\"\"\"\n",
        "X1 = tf.placeholder(tf.float32, [None, n_inputs])\n",
        "\n",
        "Wx = tf.Variable(tf.random_normal(shape=[n_inputs,n_neurons],dtype=tf.float32))\n",
        "Wy = tf.Variable(tf.random_normal(shape=[n_neurons,n_neurons],dtype=tf.float32))\n",
        "b = tf.Variable(tf.zeros([1,n_neurons],dtype=tf.float32))\n",
        "\n",
        "Y0 = tf.tanh(tf.matmul(X0,Wx) + b)\n",
        "Y1 = tf.tanh(tf.matmul(Y0,Wy) + tf.matmul(X1, Wx) + b)\n",
        "\n",
        "init = tf.global_variables_initializer()\n",
        "\n",
        "X0_batch = np.array([[0,1,2],[3,4,5],[6,7,8],[9,0,1]])\n",
        "X1_batch = np.array([[9,8,7],[0,0,0],[6,5,4],[3,2,1]])\n",
        "\n",
        "with tf.Session() as sess:\n",
        "  init.run()\n",
        "  Y0_val,Y1_val = sess.run([Y0, Y1],feed_dict={X0: X0_batch, X1: X1_batch})\n"
      ],
      "execution_count": 0,
      "outputs": []
    },
    {
      "metadata": {
        "id": "ZC-BsjzQ_j5D",
        "colab_type": "code",
        "colab": {
          "base_uri": "https://localhost:8080/",
          "height": 153
        },
        "outputId": "da87ecc8-b36d-4ea9-c669-9999b71e5684"
      },
      "cell_type": "code",
      "source": [
        "print(Y0_val)\n",
        "print(X0_batch)"
      ],
      "execution_count": 8,
      "outputs": [
        {
          "output_type": "stream",
          "text": [
            "[[-0.96996015 -0.6410698  -0.9988856   0.999174    0.30030066]\n",
            " [-1.         -0.98527116 -1.          0.9999995   0.59237576]\n",
            " [-1.         -0.9994968  -1.          1.          0.78288746]\n",
            " [-1.         -0.86512524 -1.         -1.          0.9133607 ]]\n",
            "[[0 1 2]\n",
            " [3 4 5]\n",
            " [6 7 8]\n",
            " [9 0 1]]\n"
          ],
          "name": "stdout"
        }
      ]
    },
    {
      "metadata": {
        "id": "ztLj7xBrK8c-",
        "colab_type": "code",
        "colab": {}
      },
      "cell_type": "code",
      "source": [
        "# RNN using static_rnn function in tf - Unrolled in time \n",
        "# note: terminate session and run again if ValueError arises due to variables\n",
        "#already in kernel (quickfix)\n",
        "import numpy as np\n",
        "import tensorflow as tf\n",
        "\n",
        "n_inputs = 3\n",
        "n_neurons = 5\n",
        "\n",
        "X0 = tf.placeholder(tf.float32, [None, n_inputs]) \n",
        "\"\"\"\n",
        "note:\n",
        "none means dimension is not specified. So, it X0 takes any number of rows but\n",
        "n_inputs number of columns.\n",
        "\"\"\"\n",
        "X1 = tf.placeholder(tf.float32, [None, n_inputs])\n",
        "\n",
        "Wx = tf.Variable(tf.random_normal(shape=[n_inputs,n_neurons],dtype=tf.float32))\n",
        "Wy = tf.Variable(tf.random_normal(shape=[n_neurons,n_neurons],dtype=tf.float32))\n",
        "b = tf.Variable(tf.zeros([1,n_neurons],dtype=tf.float32))\n",
        "\n",
        "basic_cell = tf.contrib.rnn.BasicRNNCell(num_units=n_neurons)\n",
        "output_seqs, states = tf.contrib.rnn.static_rnn(basic_cell, [X0, X1], dtype=tf.float32)\n",
        "Y0 , Y1 = output_seqs\n",
        "\n",
        "init = tf.global_variables_initializer()\n",
        "\n",
        "X0_batch = np.array([[0,1,2],[3,4,5],[6,7,8],[9,0,1]])\n",
        "X1_batch = np.array([[9,8,7],[0,0,0],[6,5,4],[3,2,1]])\n",
        "\n",
        "with tf.Session() as sess:\n",
        "  init.run()\n",
        "  Y0_val,Y1_val = sess.run([Y0, Y1],feed_dict={X0: X0_batch, X1: X1_batch})\n",
        "  "
      ],
      "execution_count": 0,
      "outputs": []
    },
    {
      "metadata": {
        "id": "4DpJn-TKQC6t",
        "colab_type": "code",
        "colab": {
          "base_uri": "https://localhost:8080/",
          "height": 85
        },
        "outputId": "342089b2-4448-4c81-a5b0-daa027fff819"
      },
      "cell_type": "code",
      "source": [
        "print(Y0_val)"
      ],
      "execution_count": 2,
      "outputs": [
        {
          "output_type": "stream",
          "text": [
            "[[-0.5649363   0.9316831  -0.47059372  0.5860515   0.9365775 ]\n",
            " [-0.9906842   0.9999971  -0.9396638   0.97385293  0.99985975]\n",
            " [-0.99984246  1.         -0.9946387   0.9986562   0.9999997 ]\n",
            " [-0.9577375   0.999996    0.6915387  -0.6818011   0.53698236]]\n"
          ],
          "name": "stdout"
        }
      ]
    },
    {
      "metadata": {
        "id": "UiI6P7CLW83P",
        "colab_type": "code",
        "colab": {
          "base_uri": "https://localhost:8080/",
          "height": 204
        },
        "outputId": "d5243758-5ecb-49a8-f4be-ee794d646711"
      },
      "cell_type": "code",
      "source": [
        "# RNN with sequence input (given in single list) - Unrolled in time\n",
        "# note: terminate session and run again if ValueError arises due to variables\n",
        "#already in kernel (quickfix)\n",
        "import numpy as np\n",
        "import tensorflow as tf\n",
        "\n",
        "n_inputs = 3\n",
        "n_neurons = 5\n",
        "\n",
        "\"\"\"\n",
        "note:\n",
        "none means dimension is not specified. So, it X0 takes any number of rows but\n",
        "n_inputs number of columns.\n",
        "\"\"\"\n",
        "n_steps = 2\n",
        "X = tf.placeholder(tf.float32, [None, n_steps, n_inputs])\n",
        "X_seqs = tf.unstack(tf.transpose(X, perm=[1, 0, 2]))\n",
        "\"\"\"\n",
        "perm is useful to decide the tranformation to be done.\n",
        "initial is 0,1,2\n",
        "transposed is 1,0,2 ie only rows and columns are altered. third dimension is kept same.\n",
        "it is NOT transposed.\n",
        "in 2D (0,1) is transposed to (1,0)\n",
        "in 3D by default (0,1,2) is transposed to (2,1,0)\n",
        "\"\"\"\n",
        "\n",
        "basic_cell = tf.contrib.rnn.BasicRNNCell(num_units=n_neurons)\n",
        "output_seqs, states = tf.contrib.rnn.static_rnn(basic_cell, X_seqs, dtype=tf.float32)\n",
        "outputs = tf.transpose(tf.stack(output_seqs), perm=[1,0,2])\n",
        "\n",
        "init = tf.global_variables_initializer()\n",
        "\n",
        "X_batch = np.array([\n",
        "    [[0,1,2], [9,8,7]],\n",
        "    [[3,4,5],[0,0,0]],\n",
        "    [[6,7,8],[6,5,4]],\n",
        "    [[9,0,1],[3,2,1]]\n",
        "    ])\n",
        "\n",
        "with tf.Session() as sess:\n",
        "  init.run()\n",
        "  outputs_val = outputs.eval(feed_dict={X: X_batch})\n",
        "\n",
        "  \n",
        "print(outputs_val)"
      ],
      "execution_count": 1,
      "outputs": [
        {
          "output_type": "stream",
          "text": [
            "[[[-0.26703614  0.85850936 -0.94624954 -0.89803565  0.90369356]\n",
            "  [-0.9973372   0.9994185  -0.9999812  -1.          0.9981015 ]]\n",
            "\n",
            " [[-0.89537394  0.9956316  -0.99984586 -0.99987924  0.9983182 ]\n",
            "  [ 0.31190956  0.1610087   0.83435875 -0.9639556  -0.91322875]]\n",
            "\n",
            " [[-0.9895204   0.9998741  -0.9999995  -0.99999976  0.99997205]\n",
            "  [-0.93418723  0.98498064 -0.99407107 -0.9999992   0.76789415]]\n",
            "\n",
            " [[-0.99964917 -0.15638609  0.80194604 -0.9255959  -0.9442658 ]\n",
            "  [-0.4826311   0.61576605 -0.8357857  -0.96386933  0.7421594 ]]]\n"
          ],
          "name": "stdout"
        }
      ]
    },
    {
      "metadata": {
        "id": "Ok5jSnN0bT3Z",
        "colab_type": "code",
        "colab": {
          "base_uri": "https://localhost:8080/",
          "height": 204
        },
        "outputId": "46bb7b46-899d-496d-dfd9-1b5af01f3575"
      },
      "cell_type": "code",
      "source": [
        "# RNN with sequence input (given in single list) - dynamic unrolling through time\n",
        "# note: terminate session and run again if ValueError arises due to variables\n",
        "#already in kernel (quickfix)\n",
        "import numpy as np\n",
        "import tensorflow as tf\n",
        "\n",
        "n_inputs = 3\n",
        "n_neurons = 5\n",
        "\n",
        "\"\"\"\n",
        "note:\n",
        "none means dimension is not specified. So, it X0 takes any number of rows but\n",
        "n_inputs number of columns.\n",
        "\"\"\"\n",
        "n_steps = 2\n",
        "X = tf.placeholder(tf.float32, [None, n_steps, n_inputs])\n",
        "\n",
        "\"\"\"\n",
        "perm is useful to decide the tranformation to be done.\n",
        "initial is 0,1,2\n",
        "transposed is 1,0,2 ie only rows and columns are altered. third dimension is kept same.\n",
        "it is NOT transposed.\n",
        "in 2D (0,1) is transposed to (1,0)\n",
        "in 3D by default (0,1,2) is transposed to (2,1,0)\n",
        "\"\"\"\n",
        "\n",
        "basic_cell = tf.contrib.rnn.BasicRNNCell(num_units=n_neurons)\n",
        "outputs, states = tf.nn.dynamic_rnn(basic_cell, X, dtype=tf.float32)\n",
        "\n",
        "init = tf.global_variables_initializer()\n",
        "\n",
        "X_batch = np.array([\n",
        "    [[0,1,2], [9,8,7]],\n",
        "    [[3,4,5],[0,0,0]],\n",
        "    [[6,7,8],[6,5,4]],\n",
        "    [[9,0,1],[3,2,1]]\n",
        "    ])\n",
        "\n",
        "with tf.Session() as sess:\n",
        "  init.run()\n",
        "  outputs_val = outputs.eval(feed_dict={X: X_batch})\n",
        "\n",
        "  \n",
        "print(outputs_val)"
      ],
      "execution_count": 1,
      "outputs": [
        {
          "output_type": "stream",
          "text": [
            "[[[ 0.9283708   0.7876568   0.5752352  -0.6714994  -0.5580821 ]\n",
            "  [ 0.9990377   1.         -0.7308792  -0.99996525 -0.9984233 ]]\n",
            "\n",
            " [[ 0.9981606   0.99989915  0.18008448 -0.983926   -0.96266776]\n",
            "  [-0.5025831   0.8806925   0.8061418  -0.94602484  0.08150025]]\n",
            "\n",
            " [[ 0.99995434  0.99999994 -0.28321296 -0.9993323  -0.997452  ]\n",
            "  [ 0.8391648   0.9999999  -0.6400507  -0.9993323  -0.94853944]]\n",
            "\n",
            " [[-0.98943305  0.9998604  -0.8851687  -0.19771312 -0.9974578 ]\n",
            "  [-0.4721411   0.9944253  -0.9710066  -0.8430085   0.44378728]]]\n"
          ],
          "name": "stdout"
        }
      ]
    },
    {
      "metadata": {
        "id": "k6kgcUe4caAe",
        "colab_type": "code",
        "colab": {
          "base_uri": "https://localhost:8080/",
          "height": 204
        },
        "outputId": "82809b6e-6ae0-47d4-fa3c-73e404faf985"
      },
      "cell_type": "code",
      "source": [
        "# RNN with dynamic length input time length - dynamic unrolling through time\n",
        "# note: terminate session and run again if ValueError arises due to variables\n",
        "#already in kernel (quickfix)\n",
        "import numpy as np\n",
        "import tensorflow as tf\n",
        "\n",
        "n_inputs = 3\n",
        "n_neurons = 5\n",
        "\n",
        "\"\"\"\n",
        "note:\n",
        "none means dimension is not specified. So, it X0 takes any number of rows but\n",
        "n_inputs number of columns.\n",
        "\"\"\"\n",
        "n_steps = 2\n",
        "seq_length = tf.placeholder(tf.int32,[None])\n",
        "X = tf.placeholder(tf.float32, [None, n_steps, n_inputs])\n",
        "\n",
        "\"\"\"\n",
        "perm is useful to decide the tranformation to be done.\n",
        "initial is 0,1,2\n",
        "transposed is 1,0,2 ie only rows and columns are altered. third dimension is kept same.\n",
        "it is NOT transposed.\n",
        "in 2D (0,1) is transposed to (1,0)\n",
        "in 3D by default (0,1,2) is transposed to (2,1,0)\n",
        "\"\"\"\n",
        "\n",
        "basic_cell = tf.contrib.rnn.BasicRNNCell(num_units=n_neurons)\n",
        "outputs, states = tf.nn.dynamic_rnn(basic_cell, X, dtype=tf.float32,sequence_length=seq_length)\n",
        "\n",
        "init = tf.global_variables_initializer()\n",
        "\n",
        "X_batch = np.array([\n",
        "    [[0,1,2], [9,8,7]],\n",
        "    [[3,4,5],[0,0,0]],\n",
        "    [[6,7,8],[6,5,4]],\n",
        "    [[9,0,1],[3,2,1]]\n",
        "    ])\n",
        "\n",
        "seq_length_batch = np.array([2,1,2,2])\n",
        "\n",
        "with tf.Session() as sess:\n",
        "  init.run()\n",
        "  outputs_val, states_val = sess.run([outputs,states],feed_dict={X: X_batch, seq_length: seq_length_batch})\n",
        "\n",
        "  \n",
        "print(outputs_val)"
      ],
      "execution_count": 1,
      "outputs": [
        {
          "output_type": "stream",
          "text": [
            "[[[ 0.55414253 -0.4947694  -0.7171284   0.9170067   0.25633723]\n",
            "  [ 0.9999957  -0.99971545 -0.9999953   0.9999999   0.99998003]]\n",
            "\n",
            " [[ 0.9974754  -0.9826348  -0.9979176   0.99990296  0.98509854]\n",
            "  [ 0.          0.          0.          0.          0.        ]]\n",
            "\n",
            " [[ 0.99998885 -0.9995462  -0.9999868   1.          0.9998097 ]\n",
            "  [ 0.99194723 -0.9195913  -0.9985769   0.9999679   0.99783736]]\n",
            "\n",
            " [[ 0.99169165 -0.9995949  -0.96634746  0.95965934  0.99997634]\n",
            "  [ 0.06266692  0.24095273 -0.79903674  0.97291553  0.8515346 ]]]\n"
          ],
          "name": "stdout"
        }
      ]
    }
  ]
}